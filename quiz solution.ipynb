{
 "cells": [
  {
   "cell_type": "code",
   "execution_count": 26,
   "id": "255c6391",
   "metadata": {},
   "outputs": [],
   "source": [
    "import csv"
   ]
  },
  {
   "cell_type": "code",
   "execution_count": 29,
   "id": "76f795f7",
   "metadata": {},
   "outputs": [
    {
     "name": "stdout",
     "output_type": "stream",
     "text": [
      "<_io.TextIOWrapper name='intro.txt' mode='w' encoding='cp1252'>\n"
     ]
    }
   ],
   "source": [
    "with open(\"intro.txt\",\"w\") as intro:\n",
    "    intro.write(\"my name is sunil.\\n\")\n",
    "    intro.write(\"i am study in vidyabharti colleg.\\n\")\n",
    "    intro.write(\"this is my 2nd year in bca.\\n\")\n",
    "    intro.write(\"i am from bhavnagar.\\n\")\n",
    "    intro.write(\"my father name is bharatbhai.\\n\")\n",
    "    intro.write(\"he is a daimond worker in surat.\\n\")\n",
    "    intro.write(\"my favourite color is black.\\n\")\n",
    "    intro.write(\"my hobby is playing game like free fire.\\n\")\n",
    "    intro.write(\"i am wake up 6 am.\\n\")\n",
    "    \n"
   ]
  },
  {
   "cell_type": "code",
   "execution_count": null,
   "id": "2f52e1e7",
   "metadata": {},
   "outputs": [],
   "source": [
    "with open('intro.txt','r')as f:\n",
    "    with open('intro_copy.txt','w')as p:\n",
    "        for r in f:\n",
    "             if r % 2 == 1:\n",
    "                 p.write(r)"
   ]
  }
 ],
 "metadata": {
  "kernelspec": {
   "display_name": "Python 3 (ipykernel)",
   "language": "python",
   "name": "python3"
  },
  "language_info": {
   "codemirror_mode": {
    "name": "ipython",
    "version": 3
   },
   "file_extension": ".py",
   "mimetype": "text/x-python",
   "name": "python",
   "nbconvert_exporter": "python",
   "pygments_lexer": "ipython3",
   "version": "3.11.4"
  }
 },
 "nbformat": 4,
 "nbformat_minor": 5
}
